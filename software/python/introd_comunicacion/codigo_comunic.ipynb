{
 "cells": [
  {
   "cell_type": "code",
   "execution_count": 3,
   "id": "830751e3-7304-48c1-9273-f5d0b513e619",
   "metadata": {},
   "outputs": [],
   "source": [
    "import pyvisa as visa\n",
    "import numpy as np\n",
    "import time\n",
    "import matplotlib.pyplot as plt"
   ]
  },
  {
   "cell_type": "code",
   "execution_count": 5,
   "id": "c811bf95-d8be-46a2-b7ff-e1ae29f93ee1",
   "metadata": {},
   "outputs": [],
   "source": [
    "# inicializo comunicacion con equipos\n",
    "rm = visa.ResourceManager()\n",
    "#lista de dispositivos conectados, para ver las id de los equipos\n",
    "rm.list_resources()"
   ]
  },
  {
   "cell_type": "code",
   "execution_count": null,
   "id": "91c38c6b-980c-4732-b854-9e2dffdbca3c",
   "metadata": {},
   "outputs": [],
   "source": [
    "#inicializo generador de funciones\n",
    "fungen = rm.open_resource('USB0::0x0699::0x0346::C034198::INSTR')\n",
    "#le pregunto su identidad\n",
    "fungen.query('*IDN?')\n",
    "#le pregunto la freq\n",
    "fungen.query('FREQ?')\n",
    "#le seteo la freq\n",
    "fungen.write('FREQ 2000')\n",
    "fungen.query('FREQ?')\n",
    "#le pregunto la amplitud\n",
    "fungen.query('VOLT?')\n",
    "#le seteo la amplitud\n",
    "fungen.write('VOLT 2')\n",
    "fungen.query('VOLT?')\n",
    "#le pregunto si la salida esta habilitada\n",
    "fungen.query('OUTPut1:STATe?')\n",
    "#habilito la salida\n",
    "fungen.write('OUTPut1:STATe 1')\n",
    "fungen.query('OUTPut1:STATe?')\n",
    "#le pregunto la impedancia de carga seteada\n",
    "fungen.query('OUTPUT1:IMPEDANCE?')"
   ]
  },
  {
   "cell_type": "code",
   "execution_count": null,
   "id": "f71eda19-61b8-4b29-8ad8-e1470090f4bd",
   "metadata": {},
   "outputs": [],
   "source": [
    "#inicializo el osciloscopio\n",
    "osci = rm.open_resource('USB0::0x0699::0x0363::C102223::INSTR')\n",
    "#le pregunto su identidad\n",
    "osci.query('*IDN?')\n",
    "#le pregunto la conf del canal (1|2)\n",
    "osci.query('CH1?')\n",
    "#le pregunto la conf horizontal\n",
    "osci.query('HOR?')\n",
    "#le pregunto la punta de osciloscopio seteada\n",
    "osci.query('CH2:PRObe?')"
   ]
  },
  {
   "cell_type": "code",
   "execution_count": null,
   "id": "90bbe75b-7af9-40c5-93be-6ea2ceeeb114",
   "metadata": {},
   "outputs": [],
   "source": [
    "#Seteo de canal\n",
    "channel=1\n",
    "scale = 5\n",
    "osci.write(\"CH{0}:SCA {1}\".format(channel, scale))\n",
    "osci.query(\"CH{0}:SCA?\".format(channel))\n",
    "\"\"\"escalas Voltaje (V) ojo estas listas no son completas\n",
    "2e-3\n",
    "5e-3\n",
    "10e-3\n",
    "20e-3\n",
    "50e-3\n",
    "100e-3\n",
    "5e-2\n",
    "10e-2\n",
    "\"\"\"\n",
    "\n",
    "zero = 0\n",
    "osci.write(\"CH{0}:POS {1}\".format(channel, zero))\n",
    "osci.query(\"CH{0}:POS?\".format(channel))\n",
    "\n",
    "channel=2\n",
    "scale = 2e-1\n",
    "osci.write(\"CH{0}:SCA {1}\".format(channel, scale))\n",
    "osci.write(\"CH{0}:POS {1}\".format(channel, zero))"
   ]
  },
  {
   "cell_type": "code",
   "execution_count": null,
   "id": "afea920f-555d-4190-b5e7-af7117b6f654",
   "metadata": {},
   "outputs": [],
   "source": [
    "#seteo escala horizontal\n",
    "scale = 200e-6\n",
    "osci.write(\"HOR:SCA {0}\".format(scale))\n",
    "osci.write(\"HOR:POS {0}\".format(zero))\t\n",
    "osci.query(\"HOR?\")\n",
    "\"\"\"\n",
    "escalas temporales (s)\n",
    "\n",
    "10e-9\n",
    "25e-9\n",
    "50e-9\n",
    "100e-9\n",
    "250e-9\n",
    "500e-9\n",
    "1e-6\n",
    "2e-6\n",
    "5e-6\n",
    "10e-6\n",
    "25e-6\n",
    "50e-6\n",
    "\n",
    "\"\"\""
   ]
  },
  {
   "cell_type": "code",
   "execution_count": null,
   "id": "4838666f-a365-4445-960e-f7074aad2f70",
   "metadata": {},
   "outputs": [],
   "source": [
    "#le pido los valores de la pantalla (0:255)\n",
    "data = osci.query_binary_values('CURV?', datatype='B',container=np.array)\n",
    "plt.plot(data)\n",
    "\n",
    "#le pido los parametros de la pantalla\n",
    "xze, xin, yze, ymu, yoff = osci.query_ascii_values('WFMPRE:XZE?;XIN?;YZE?;YMU?;YOFF?;', separator=';') \n",
    "xze\n",
    "xin\n",
    "#voltaje = (data - yoff) * ymu + yze \n",
    "#tiempo = xze + np.arange(len(data)) * xin"
   ]
  },
  {
   "cell_type": "code",
   "execution_count": null,
   "id": "c4edd893-d5bf-406d-959d-3afa281d04bf",
   "metadata": {},
   "outputs": [],
   "source": [
    "# Conexion usando clases\n",
    "from instrumental import AFG3021B\n",
    "from instrumental import TDS1002B"
   ]
  },
  {
   "cell_type": "code",
   "execution_count": null,
   "id": "95b15518-a337-46b5-ba07-3460220609ce",
   "metadata": {},
   "outputs": [],
   "source": [
    "#osciloscopio\n",
    "osci = TDS1002B('USB0::0x0699::0x0363::C102223::INSTR')\n",
    "osci.get_time()\n",
    "osci.set_time(scale = 1e-3)\n",
    "osci.set_channel(1,scale = 2)\n",
    "tiempo, data = osci.read_data(channel = 1)\n",
    "plt.plot(tiempo,data)\n",
    "plt.xlabel('Tiempo [s]')\n",
    "plt.ylabel('Voltaje [V]')"
   ]
  },
  {
   "cell_type": "code",
   "execution_count": null,
   "id": "a1db7cb6-e1cc-4d8e-810e-9cc9168772d7",
   "metadata": {},
   "outputs": [],
   "source": [
    "#generador de funciones\n",
    "fungen = AFG3021B(name = 'USB0::0x0699::0x0346::C034198::INSTR')\n",
    "fungen.getFrequency()"
   ]
  },
  {
   "cell_type": "code",
   "execution_count": null,
   "id": "92e61bd3-f7ff-4a1e-adb8-c22d5e7915c3",
   "metadata": {},
   "outputs": [],
   "source": [
    "#barrido de frecuencia\n",
    "#faltaria meter algo para la escala, un if por ejemplo\n",
    "for freq in range(1000,5000,1000):\n",
    "    print(freq)\n",
    "    fungen.setFrequency(freq)\n",
    "    time.sleep(0.1)\n",
    "    tiempo, data = osci.read_data(channel = 1)\n",
    "    plt.plot(tiempo,data)\n",
    "    plt.xlabel('Tiempo [s]')\n",
    "    plt.ylabel('Voltaje [V]')"
   ]
  },
  {
   "cell_type": "code",
   "execution_count": null,
   "id": "ed4242ae-a6b2-48fe-964f-de05e2870afa",
   "metadata": {},
   "outputs": [],
   "source": [
    "#Ejemplo comunicacion Amprobe38XR-A\n",
    "from instrumental import Amporobe38XRA\n",
    "mult = Amporobe38XRA('COM1')\n",
    "value,Ylab=mult.GetValue(verbose=True)\n",
    "print(value,Ylab)\n",
    "value,Ylab=mult.GetValue(verbose=True)\n",
    "print(value,Ylab)\n",
    "mult.close()"
   ]
  }
 ],
 "metadata": {
  "kernelspec": {
   "display_name": "Python 3 (ipykernel)",
   "language": "python",
   "name": "python3"
  },
  "language_info": {
   "codemirror_mode": {
    "name": "ipython",
    "version": 3
   },
   "file_extension": ".py",
   "mimetype": "text/x-python",
   "name": "python",
   "nbconvert_exporter": "python",
   "pygments_lexer": "ipython3",
   "version": "3.10.12"
  }
 },
 "nbformat": 4,
 "nbformat_minor": 5
}
